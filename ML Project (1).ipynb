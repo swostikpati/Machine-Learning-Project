{
 "cells": [
  {
   "cell_type": "code",
   "execution_count": 150,
   "metadata": {},
   "outputs": [
    {
     "name": "stdout",
     "output_type": "stream",
     "text": [
      "Python: 3.6.5 |Anaconda, Inc.| (default, Mar 29 2018, 13:32:41) [MSC v.1900 64 bit (AMD64)]\n",
      "Scipy: 1.1.0\n",
      "Numpy: 1.14.3\n",
      "Matplotlib: 2.2.2\n",
      "Pandas: 0.23.0\n",
      "Sklearn: 0.19.1\n"
     ]
    }
   ],
   "source": [
    "# checking the version of libraries\n",
    "import sys\n",
    "print('Python: {}'.format(sys.version))\n",
    "import  scipy\n",
    "print('Scipy: {}'.format(scipy.__version__))\n",
    "import numpy\n",
    "print('Numpy: {}'.format(numpy.__version__))\n",
    "import matplotlib\n",
    "print('Matplotlib: {}'.format(matplotlib.__version__))\n",
    "import pandas\n",
    "print('Pandas: {}'.format(pandas.__version__))\n",
    "import sklearn\n",
    "print('Sklearn: {}'.format(sklearn.__version__))\n",
    "#version for sys;__version__ for all others"
   ]
  },
  {
   "cell_type": "code",
   "execution_count": 151,
   "metadata": {},
   "outputs": [],
   "source": [
    "#Iris flower data set- hello world equivalent for ML"
   ]
  },
  {
   "cell_type": "code",
   "execution_count": 152,
   "metadata": {},
   "outputs": [],
   "source": [
    "#importing dependencies \n",
    "import pandas\n",
    "from pandas import read_csv\n",
    "from pandas.plotting import scatter_matrix\n",
    "from matplotlib import pyplot\n",
    "from sklearn.model_selection import train_test_split\n",
    "from sklearn.model_selection import cross_val_score\n",
    "from sklearn.model_selection import StratifiedKFold\n",
    "from sklearn.metrics import classification_report\n",
    "from sklearn.metrics import confusion_matrix\n",
    "from sklearn.metrics import accuracy_score\n",
    "from sklearn.linear_model import LogisticRegression\n",
    "from sklearn.tree import DecisionTreeClassifier\n",
    "from sklearn.neighbors import KNeighborsClassifier\n",
    "from sklearn.discriminant_analysis import LinearDiscriminantAnalysis\n",
    "from sklearn.naive_bayes import GaussianNB\n",
    "from sklearn.svm import SVC\n",
    "from sklearn import model_selection\n",
    "from sklearn.ensemble import VotingClassifier\n"
   ]
  },
  {
   "cell_type": "code",
   "execution_count": 153,
   "metadata": {},
   "outputs": [],
   "source": [
    "#loading dataset\n",
    "url = 'iris.csv'\n",
    "names = ['sepal-length','sepal-width','petal-length','petal-width','species']\n",
    "d = read_csv(url, names=names)#the second name refers to the list.\n",
    "dataset=d.iloc[1:,:]#removing the labels \n",
    "\n",
    "#names parameter is used to define column names in the csv file. If extra name is passes, a new column is created."
   ]
  },
  {
   "cell_type": "code",
   "execution_count": 154,
   "metadata": {},
   "outputs": [
    {
     "name": "stdout",
     "output_type": "stream",
     "text": [
      "(150, 5)\n",
      "\n",
      "   sepal-length sepal-width petal-length petal-width      species\n",
      "1           5.1         3.5          1.4         0.2  Iris-setosa\n",
      "2           4.9         3.0          1.4         0.2  Iris-setosa\n",
      "3           4.7         3.2          1.3         0.2  Iris-setosa\n",
      "4           4.6         3.1          1.5         0.2  Iris-setosa\n",
      "5           5.0         3.6          1.4         0.2  Iris-setosa\n",
      "6           5.4         3.9          1.7         0.4  Iris-setosa\n",
      "7           4.6         3.4          1.4         0.3  Iris-setosa\n",
      "8           5.0         3.4          1.5         0.2  Iris-setosa\n",
      "9           4.4         2.9          1.4         0.2  Iris-setosa\n",
      "10          4.9         3.1          1.5         0.1  Iris-setosa\n",
      "11          5.4         3.7          1.5         0.2  Iris-setosa\n",
      "12          4.8         3.4          1.6         0.2  Iris-setosa\n",
      "13          4.8         3.0          1.4         0.1  Iris-setosa\n",
      "14          4.3         3.0          1.1         0.1  Iris-setosa\n",
      "15          5.8         4.0          1.2         0.2  Iris-setosa\n",
      "16          5.7         4.4          1.5         0.4  Iris-setosa\n",
      "17          5.4         3.9          1.3         0.4  Iris-setosa\n",
      "18          5.1         3.5          1.4         0.3  Iris-setosa\n",
      "19          5.7         3.8          1.7         0.3  Iris-setosa\n",
      "20          5.1         3.8          1.5         0.3  Iris-setosa\n",
      "\n",
      "       sepal-length sepal-width petal-length petal-width      species\n",
      "count           150         150          150         150          150\n",
      "unique           35          23           43          22            3\n",
      "top             5.0         3.0          1.5         0.2  Iris-setosa\n",
      "freq             10          26           14          28           50\n",
      "\n",
      "species\n",
      "Iris-setosa        50\n",
      "Iris-versicolor    50\n",
      "Iris-virginica     50\n",
      "dtype: int64\n"
     ]
    }
   ],
   "source": [
    "#visualising the data\n",
    "\n",
    "#dimensions of the dataset\n",
    "print(dataset.shape)\n",
    "print()\n",
    "#peek at dataset\n",
    "print(dataset.head(20))#first 20 lines\n",
    "print()\n",
    "#satistical summary\n",
    "print(dataset.describe())\n",
    "print()\n",
    "#species distribution\n",
    "print(dataset.groupby('species').size())"
   ]
  },
  {
   "cell_type": "code",
   "execution_count": 155,
   "metadata": {
    "scrolled": true
   },
   "outputs": [],
   "source": [
    "# univarite plots - box and whisker plots\n",
    "#dataset.plot(kind='box',subplots=True , layout=(2,2),sharex=False,sharey=False)\n",
    "#pyplot.show()"
   ]
  },
  {
   "cell_type": "code",
   "execution_count": 156,
   "metadata": {},
   "outputs": [],
   "source": [
    "#dataset.hist()\n",
    "#pyplot.show()"
   ]
  },
  {
   "cell_type": "code",
   "execution_count": 157,
   "metadata": {},
   "outputs": [],
   "source": [
    "#multivariate plots\n",
    "#scatter_matrix(dataset)\n",
    "#pyplot.show()"
   ]
  },
  {
   "cell_type": "code",
   "execution_count": 158,
   "metadata": {},
   "outputs": [],
   "source": [
    "#creating a validation set-80/20 train-test\n",
    "#spillting dataset\n",
    "array = dataset.values\n",
    "X= array[:,0:4]\n",
    "Y =array[:,4]\n",
    "X_train,X_val,Y_train,Y_val= train_test_split(X,Y,test_size=0.2,random_state=1)\n",
    "#training data- X_train,Y_train\n",
    "#validation(testing)- X_val,Y_val\n"
   ]
  },
  {
   "cell_type": "code",
   "execution_count": 159,
   "metadata": {},
   "outputs": [],
   "source": [
    "#harnessing-stratified 10 fold cross validation-to check model accuracy.\n",
    "#splits dataset into 10 parts-train on 9, and test on 1 - this repeats for all this training values\n",
    "#random_state is fixed to evaluate data values uniformly\n",
    "#accuracy- ( correctly predicted/total )*100%"
   ]
  },
  {
   "cell_type": "code",
   "execution_count": 160,
   "metadata": {},
   "outputs": [],
   "source": [
    "#training on 6 different algoritms(linear and non-linear)\n",
    "#logistic Regression\n",
    "#Linear Discriminant Analysis\n",
    "#KNeighborsClassifier\n",
    "#GaussianNB\n",
    "#Support vector machine"
   ]
  },
  {
   "cell_type": "code",
   "execution_count": 161,
   "metadata": {},
   "outputs": [],
   "source": [
    "#building models\n",
    "models = []\n",
    "models.append(('LR', LogisticRegression(solver='liblinear', multi_class='ovr')))\n",
    "models.append(('LDA', LinearDiscriminantAnalysis()))\n",
    "models.append(('KNC', KNeighborsClassifier()))\n",
    "models.append(('NB', GaussianNB()))\n",
    "models.append(('SVM', SVC(gamma='auto')))"
   ]
  },
  {
   "cell_type": "code",
   "execution_count": 162,
   "metadata": {},
   "outputs": [
    {
     "name": "stdout",
     "output_type": "stream",
     "text": [
      "LR : 0.960897 (0.052113)\n",
      "LDA : 0.973974 (0.040110)\n",
      "KNC : 0.957191 (0.043263)\n",
      "NB : 0.948858 (0.056322)\n",
      "SVM : 0.983974 (0.032083)\n"
     ]
    }
   ],
   "source": [
    "# evaluate the created models\n",
    "results=[]\n",
    "names=[]\n",
    "for name,model in models:\n",
    "    kfold = StratifiedKFold(n_splits=10,random_state=1)\n",
    "    cv_results = cross_val_score(model,X_train,Y_train, cv=kfold, scoring='accuracy')\n",
    "    results.append(cv_results)\n",
    "    names.append(name)\n",
    "    print('%s : %f (%f)' % (name,cv_results.mean(),cv_results.std()))"
   ]
  },
  {
   "cell_type": "code",
   "execution_count": 163,
   "metadata": {},
   "outputs": [
    {
     "data": {
      "image/png": "[encoded data removed]",
      "text/plain": [
       "<Figure size 432x288 with 1 Axes>"
      ]
     },
     "metadata": {},
     "output_type": "display_data"
    }
   ],
   "source": [
    "#Comparing models using plots\n",
    "pyplot.boxplot(results,labels=names)\n",
    "pyplot.title('Algorithm comparison')\n",
    "pyplot.show()"
   ]
  },
  {
   "cell_type": "code",
   "execution_count": 164,
   "metadata": {},
   "outputs": [],
   "source": [
    "#SVM is the best fit model"
   ]
  },
  {
   "cell_type": "code",
   "execution_count": 165,
   "metadata": {},
   "outputs": [],
   "source": [
    "#Prediciton on SVM\n",
    "model = SVC(gamma='auto')\n",
    "model.fit(X_train,Y_train)\n",
    "predictions = model.predict(X_val)"
   ]
  },
  {
   "cell_type": "code",
   "execution_count": 166,
   "metadata": {},
   "outputs": [
    {
     "name": "stdout",
     "output_type": "stream",
     "text": [
      "0.9666666666666667\n",
      "                 precision    recall  f1-score   support\n",
      "\n",
      "    Iris-setosa       1.00      1.00      1.00        11\n",
      "Iris-versicolor       1.00      0.92      0.96        13\n",
      " Iris-virginica       0.86      1.00      0.92         6\n",
      "\n",
      "    avg / total       0.97      0.97      0.97        30\n",
      "\n"
     ]
    }
   ],
   "source": [
    "#evaluate predictions\n",
    "print(accuracy_score(Y_val,predictions))\n",
    "print(classification_report(Y_val, predictions))"
   ]
  },
  {
   "cell_type": "code",
   "execution_count": 167,
   "metadata": {},
   "outputs": [],
   "source": [
    "#accuracy is 96.67%\n",
    "#classification report gives values of each class(species)."
   ]
  },
  {
   "cell_type": "code",
   "execution_count": null,
   "metadata": {},
   "outputs": [],
   "source": []
  }
 ],
 "metadata": {
  "kernelspec": {
   "display_name": "Python 3",
   "language": "python",
   "name": "python3"
  },
  "language_info": {
   "codemirror_mode": {
    "name": "ipython",
    "version": 3
   },
   "file_extension": ".py",
   "mimetype": "text/x-python",
   "name": "python",
   "nbconvert_exporter": "python",
   "pygments_lexer": "ipython3",
   "version": "3.6.5"
  }
 },
 "nbformat": 4,
 "nbformat_minor": 2
}
